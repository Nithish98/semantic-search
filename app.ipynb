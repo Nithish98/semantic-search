{
  "nbformat": 4,
  "nbformat_minor": 0,
  "metadata": {
    "colab": {
      "name": "app.ipynb",
      "provenance": []
    },
    "kernelspec": {
      "name": "python3",
      "display_name": "Python 3"
    },
    "language_info": {
      "name": "python"
    }
  },
  "cells": [
    {
      "cell_type": "code",
      "source": [
        "from google.colab import drive\n",
        "drive.mount('/content/drive')"
      ],
      "metadata": {
        "colab": {
          "base_uri": "https://localhost:8080/"
        },
        "id": "gFfk5Kflct7R",
        "outputId": "666e50fa-387d-4a45-f9f7-d8cad3206c29"
      },
      "execution_count": 1,
      "outputs": [
        {
          "output_type": "stream",
          "name": "stdout",
          "text": [
            "Mounted at /content/drive\n"
          ]
        }
      ]
    },
    {
      "cell_type": "code",
      "source": [
        "!pip install pyngrok\n",
        "!pip install flask-ngrok"
      ],
      "metadata": {
        "id": "3-Bt2069AqA2"
      },
      "execution_count": null,
      "outputs": []
    },
    {
      "cell_type": "code",
      "source": [
        "!ngrok authtoken 25cEjT1YXDcaCHC8aH56oPkjY2z_3XgezFTFRXKa2QME15ztn"
      ],
      "metadata": {
        "id": "GrYzEf2xAqA-"
      },
      "execution_count": null,
      "outputs": []
    },
    {
      "cell_type": "code",
      "execution_count": null,
      "metadata": {
        "id": "Hxs6-t_MZceK"
      },
      "outputs": [],
      "source": [
        "!pip install -U sentence-transformers"
      ]
    },
    {
      "cell_type": "code",
      "execution_count": 3,
      "metadata": {
        "id": "-bGGfq-vyTQO"
      },
      "outputs": [],
      "source": [
        "import pandas as pd \n",
        "import numpy as np\n",
        "import re\n",
        "import pickle\n",
        "from tqdm import tqdm\n",
        "from sentence_transformers import SentenceTransformer\n",
        "from sklearn.metrics.pairwise import cosine_similarity\n",
        "\n",
        "\n",
        "import flask\n",
        "from flask import Flask, render_template, request\n",
        "from flask_ngrok import run_with_ngrok"
      ]
    },
    {
      "cell_type": "code",
      "source": [
        "def text_preprocessing(text):\n",
        "\n",
        "\n",
        "  #Decontractions, replace words like below to full words. \n",
        "  text = re.sub(r\"n\\'t\", \" not\", text)\n",
        "  text = re.sub(r\"\\'re\", \" are\", text)\n",
        "  text = re.sub(r\"\\'s\", \" is\", text)\n",
        "  text = re.sub(r\"\\'d\", \" would\", text)\n",
        "  text = re.sub(r\"\\'ll\", \" will\", text)\n",
        "  text = re.sub(r\"\\'t\", \" not\", text)\n",
        "  text = re.sub(r\"\\'ve\", \" have\", text)\n",
        "  text = re.sub(r\"\\'m\", \" am\", text)\n",
        "\n",
        "  #Removing tags like \"< anyword >\"\n",
        "  #text = re.sub('\\<.*?\\>',' ',text)\n",
        "  #Removing all the newlines('\\n'), tabs('\\t'), \"-\"\n",
        "  #text = re.sub('\\n|\\t|\\r|-',' ',text)\n",
        "  #Removing all the data which are present in the brackets\n",
        "  text = re.sub('\\(.*?\\)',' ',text)\n",
        "  #Removing all the data which are present in the flower brackets\n",
        "  text = re.sub('\\{.*?\\}',' ',text)\n",
        "  #Removing URL's\n",
        "  text = re.sub(r'http\\S+', ' ', text)\n",
        "  #Removing special characters\n",
        "  text = re.sub('[?|!|\\'|\"|#]',' ', text)\n",
        "  text = re.sub('[.|,|)|(|\\|/]',' ', text)\n",
        "  #Replacing numbers with word counterpart\n",
        "  #https://stackoverflow.com/questions/22545114/python-regex-sub-use-match-as-dict-key-in-substitution\n",
        "  num =  {'1':'one', '2':'two', '3':'three', '4':'four', '5':'five', '6':'six', '7':'seven', '8':'eight', '9':'nine', '0':'zero'}\n",
        "  text = re.sub('[0-9]', lambda m: num.get(m.group()), text)\n",
        "  #Removing non alphabets\n",
        "  text = re.sub(\"[^a-zA-Z]\",' ', text)\n",
        "  #Converting text to lower case\n",
        "  text = text.lower()\n",
        "  text = ' '.join(text.split())\n",
        "\n",
        "\n",
        "\n",
        "\n",
        "  return text"
      ],
      "metadata": {
        "id": "lFdiOq9xWB5K"
      },
      "execution_count": 4,
      "outputs": []
    },
    {
      "cell_type": "code",
      "source": [
        "#Function to calculate sentence embeddings of question title\n",
        "def Sentence_Embeddings(data, model):\n",
        "  embeddings = []\n",
        "  for i in tqdm(data):\n",
        "    embeddings.append(model.encode(i))\n",
        "  return embeddings\n",
        "\n",
        "\n",
        "#Function to calculate cosine similarity\n",
        "def cos_sim(a,b):\n",
        "  sim = cosine_similarity(a,b)\n",
        "  sim = [item for sublist in sim for item in sublist]\n",
        "  #top5 = (np.argsort(sim)[-5:])\n",
        "  return(sim)\n",
        "\n",
        "\n",
        "\n",
        "#function to predict similar questions\n",
        "def prediction(title_embeddings, model, question, df):\n",
        "  question = text_preprocessing(question)\n",
        "  question_embedd = Sentence_Embeddings([question], model)\n",
        "  similarity=[]\n",
        "  similarity.extend(cos_sim(title_embeddings[:400000], question_embedd))\n",
        "  similarity.extend(cos_sim(title_embeddings[400000:800000], question_embedd))\n",
        "  similarity.extend(cos_sim(title_embeddings[800000:], question_embedd))\n",
        "  #similarity=cos_sim(title_embeddings[:], question_embedd)\n",
        "  #return similarity\n",
        "  top5 = (np.argsort(similarity)[-5:][::-1])\n",
        "  return(df['Title'].iloc[top5].values)"
      ],
      "metadata": {
        "id": "axAHa8MNc_Oy"
      },
      "execution_count": 5,
      "outputs": []
    },
    {
      "cell_type": "code",
      "source": [
        "# Running the flask app\n",
        "app = Flask(__name__, template_folder=\"/content/drive/MyDrive/template\", static_folder=\"/content/drive/MyDrive/static\") #passing path of html and static files\n",
        "run_with_ngrok(app)\n",
        "#load model using pickle\n",
        "model = pickle.load(open(\"/content/drive/MyDrive/mpnet_base.pkl\", \"rb\"))\n",
        "embeddings = pickle.load(open(\"/content/drive/MyDrive/BERT_title_embeddings.pkl\", \"rb\"))\n",
        "df = pd.read_csv(\"/content/drive/MyDrive/questions_title.csv\")\n",
        "\n",
        "@app.route('/', methods=['GET'])\n",
        "def home():\n",
        "    return render_template('index.html')\n",
        "\n",
        "@app.route('/', methods=['POST'])\n",
        "def predict():\n",
        "    \n",
        "    question = request.form.to_dict()\n",
        "    print(question)\n",
        "    title = question['Title']\n",
        "    \n",
        "    #question = str(question)\n",
        "    #print(question)\n",
        "    pred = prediction(embeddings, model, title, df)\n",
        "\n",
        "    return render_template('index.html', prediction_text1='Similar Questions ', prediction_text2='1- {}'.format(pred[0]), prediction_text3='2-{}'.format(pred[1]), prediction_text4='3- {}'.format(pred[2]), prediction_text5='4- {}'.format(pred[3]), prediction_text6='5- {}'.format(pred[4]))\n",
        "\n"
      ],
      "metadata": {
        "id": "txOCBPmgc8Ta"
      },
      "execution_count": 6,
      "outputs": []
    },
    {
      "cell_type": "code",
      "source": [
        "app.run()"
      ],
      "metadata": {
        "colab": {
          "base_uri": "https://localhost:8080/"
        },
        "id": "511xpN8KdjKs",
        "outputId": "9ecc0d09-d699-49e5-f3de-2e5b3d9de428"
      },
      "execution_count": null,
      "outputs": [
        {
          "output_type": "stream",
          "name": "stdout",
          "text": [
            " * Serving Flask app \"__main__\" (lazy loading)\n",
            " * Environment: production\n",
            "\u001b[31m   WARNING: This is a development server. Do not use it in a production deployment.\u001b[0m\n",
            "\u001b[2m   Use a production WSGI server instead.\u001b[0m\n",
            " * Debug mode: off\n"
          ]
        },
        {
          "output_type": "stream",
          "name": "stderr",
          "text": [
            " * Running on http://127.0.0.1:5000/ (Press CTRL+C to quit)\n"
          ]
        },
        {
          "output_type": "stream",
          "name": "stdout",
          "text": [
            " * Running on http://88ef-35-185-71-83.ngrok.io\n",
            " * Traffic stats available on http://127.0.0.1:4040\n"
          ]
        },
        {
          "output_type": "stream",
          "name": "stderr",
          "text": [
            "127.0.0.1 - - [28/Feb/2022 12:09:32] \"\u001b[37mGET / HTTP/1.1\u001b[0m\" 200 -\n",
            "127.0.0.1 - - [28/Feb/2022 12:09:33] \"\u001b[37mGET / HTTP/1.1\u001b[0m\" 200 -\n"
          ]
        },
        {
          "output_type": "stream",
          "name": "stdout",
          "text": [
            "{'Title': 'combine 2 sentences in java'}\n"
          ]
        },
        {
          "output_type": "stream",
          "name": "stderr",
          "text": [
            "100%|██████████| 1/1 [00:00<00:00,  2.55it/s]\n",
            "127.0.0.1 - - [28/Feb/2022 12:10:00] \"\u001b[37mPOST / HTTP/1.1\u001b[0m\" 200 -\n"
          ]
        },
        {
          "output_type": "stream",
          "name": "stdout",
          "text": [
            "{'Title': 'Combine 2 sentences in java'}\n"
          ]
        },
        {
          "output_type": "stream",
          "name": "stderr",
          "text": [
            "100%|██████████| 1/1 [00:00<00:00,  7.93it/s]\n",
            "127.0.0.1 - - [28/Feb/2022 12:10:47] \"\u001b[37mPOST / HTTP/1.1\u001b[0m\" 200 -\n"
          ]
        }
      ]
    },
    {
      "cell_type": "code",
      "source": [
        ""
      ],
      "metadata": {
        "id": "fa4Ev7TfdzLT"
      },
      "execution_count": null,
      "outputs": []
    }
  ]
}